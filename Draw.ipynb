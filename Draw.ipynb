{
 "cells": [
  {
   "cell_type": "markdown",
   "metadata": {},
   "source": [
    "## Drawing Shapes with OpenCV\n",
    "the three most basic methods to draw shapes:\n",
    "- `cv2.line()`\n",
    "- `cv2.rectangle()`\n",
    "- `cv2.circle()`"
   ]
  },
  {
   "cell_type": "code",
   "execution_count": null,
   "metadata": {
    "collapsed": true
   },
   "outputs": [],
   "source": [
    "import cv2\n",
    "import numpy as np\n",
    "import matplotlib.pyplot as plt"
   ]
  },
  {
   "cell_type": "markdown",
   "metadata": {},
   "source": [
    "### Create some global variables\n",
    "Create four colors"
   ]
  },
  {
   "cell_type": "code",
   "execution_count": null,
   "metadata": {
    "collapsed": true
   },
   "outputs": [],
   "source": [
    "GREEN = (0,255,0)\n",
    "BLUE = (0,0,255)\n",
    "RED = (255,0,0)\n",
    "WHITE = (255,255,255)"
   ]
  },
  {
   "cell_type": "markdown",
   "metadata": {},
   "source": [
    "# Create a canvas\n",
    "Construct a numpy array using `np.zeros()`method with 300 rows and 300 columns, yelding a 300x300 pizel image.\n",
    "\n",
    "We will also allocate place for 3 channesl, R,G,B. As the name suggest, the zeros method fill every element in the array with an initial value of zero."
   ]
  },
  {
   "cell_type": "code",
   "execution_count": null,
   "metadata": {
    "collapsed": true
   },
   "outputs": [],
   "source": [
    "canvas = np.zeros((300,300,3), dtype='uint8')"
   ]
  },
  {
   "cell_type": "code",
   "execution_count": null,
   "metadata": {
    "collapsed": false
   },
   "outputs": [],
   "source": []
  },
  {
   "cell_type": "code",
   "execution_count": null,
   "metadata": {
    "collapsed": false
   },
   "outputs": [],
   "source": [
    "plt.figure(figsize=(10,10))  # display image larger on jupyter cell\n",
    "plt.imshow(canvas)\n",
    "plt.show()"
   ]
  },
  {
   "cell_type": "markdown",
   "metadata": {},
   "source": [
    "\n",
    "---\n",
    "# Draw a Line\n",
    "\n",
    "Draw a Red line from \n",
    "- point $(300,0)$ \"Top right\"to\n",
    "- point $(300,300)$ \"bottom left coner \"\n",
    "\n",
    "```python\n",
    "    cv2.line(the_image, starting_point, ending_point, color, thickness)\n",
    "```\n"
   ]
  },
  {
   "cell_type": "code",
   "execution_count": null,
   "metadata": {
    "collapsed": false
   },
   "outputs": [],
   "source": [
    "cv2.line(canvas, (300,0), (0,300), RED,3)\n",
    "\n",
    "plt.figure(figsize=(10,10))  # display image larger on jupyter cell\n",
    "plt.imshow(canvas)\n",
    "plt.show()"
   ]
  },
  {
   "cell_type": "code",
   "execution_count": null,
   "metadata": {
    "collapsed": false
   },
   "outputs": [],
   "source": []
  },
  {
   "cell_type": "markdown",
   "metadata": {
    "collapsed": true
   },
   "source": [
    "# Draw a rectangle\n",
    "```python\n",
    "\n",
    "cv2.rectangle(the_image, starting_point, ending_point, color, thickness)\n",
    "```"
   ]
  },
  {
   "cell_type": "code",
   "execution_count": null,
   "metadata": {
    "collapsed": false
   },
   "outputs": [],
   "source": [
    "cv2.rectangle(canvas, (10,10), (60,60), GREEN,1)\n",
    "plt.figure(figsize=(10,10))  # display image larger on jupyter cell\n",
    "\n",
    "plt.imshow(canvas)\n",
    "plt.show()"
   ]
  },
  {
   "cell_type": "code",
   "execution_count": null,
   "metadata": {
    "collapsed": false
   },
   "outputs": [],
   "source": []
  },
  {
   "cell_type": "markdown",
   "metadata": {},
   "source": [
    "# Lets fill in a rectangle\n",
    "for `thickness` we place a $-1$"
   ]
  },
  {
   "cell_type": "code",
   "execution_count": null,
   "metadata": {
    "collapsed": false
   },
   "outputs": [],
   "source": [
    "cv2.rectangle(canvas, (200,50), (225, 125),BLUE, -1 )\n",
    "\n",
    "plt.figure(figsize=(10,10))  # display image larger on jupyter cell\n",
    "\n",
    "plt.imshow(canvas)\n",
    "plt.show()"
   ]
  },
  {
   "cell_type": "markdown",
   "metadata": {
    "collapsed": true
   },
   "source": [
    "## Write Text\n",
    "```python\n",
    "font = cv2.FONT_HERSHEY_SIMPLEX\n",
    "cv2.putText(img,'OpenCV',(10,500), font, 4,(255,255,255),2,cv2.LINE_AA)\n",
    "\n",
    "\n",
    "```\n",
    "\n",
    "- where to write\n",
    "- Text data that you want to write\n",
    "- Position coordinates of where you want put it (i.e. bottom-left corner where data starts).\n",
    "- Font type (Check cv2.putText() docs for supported fonts)\n",
    "- Font Scale (specifies the size of font)\n",
    "- color\n",
    "- line thickness\n",
    "- regular things like color, thickness, lineType etc. For better look, lineType = cv2.LINE_AA is recommended."
   ]
  },
  {
   "cell_type": "code",
   "execution_count": null,
   "metadata": {
    "collapsed": false
   },
   "outputs": [],
   "source": [
    "canvas = np.zeros((300,300,3), dtype='uint8')\n",
    "font = cv2.FONT_HERSHEY_SIMPLEX\n",
    "\n",
    "cv2.putText(canvas,'OpenCV',(50,50), font, 1,BLUE,1,cv2.LINE_AA)\n",
    "cv2.putText(canvas,'OpenCV',(0,100), font, 1.5,RED,1,cv2.LINE_AA)\n",
    "\n",
    "cv2.putText(canvas,'OpenCV',(100,200), font, 1.5,WHITE,1,cv2.LINE_AA)\n",
    "\n",
    "plt.figure(figsize=(10,10))  # display image larger on jupyter cell\n",
    "\n",
    "plt.imshow(canvas)\n",
    "plt.show()"
   ]
  },
  {
   "cell_type": "code",
   "execution_count": null,
   "metadata": {
    "collapsed": true
   },
   "outputs": [],
   "source": []
  }
 ],
 "metadata": {
  "kernelspec": {
   "display_name": "Python 3",
   "language": "python",
   "name": "python3"
  },
  "language_info": {
   "codemirror_mode": {
    "name": "ipython",
    "version": 3
   },
   "file_extension": ".py",
   "mimetype": "text/x-python",
   "name": "python",
   "nbconvert_exporter": "python",
   "pygments_lexer": "ipython3",
   "version": "3.5.3"
  }
 },
 "nbformat": 4,
 "nbformat_minor": 2
}
